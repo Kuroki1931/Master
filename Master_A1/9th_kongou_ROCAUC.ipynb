{
 "cells": [
  {
   "cell_type": "code",
   "execution_count": 1,
   "metadata": {},
   "outputs": [],
   "source": [
    "import pandas as pd\n",
    "import numpy as np\n",
    "import pickle\n",
    "import xgboost as xgb\n",
    "import datetime\n",
    "from sklearn.utils import shuffle\n",
    "from sklearn.model_selection import train_test_split\n",
    "from sklearn.linear_model import LogisticRegression\n",
    "from sklearn.metrics import confusion_matrix, accuracy_score, precision_score, classification_report\n",
    "pd.set_option('display.max_columns', None)\n",
    "import lightgbm as lgb\n",
    "from sklearn.metrics import log_loss\n",
    "from sklearn.discriminant_analysis import LinearDiscriminantAnalysis\n",
    "from tqdm import tqdm\n",
    "import time\n",
    "\n",
    "import geopandas as gpd\n",
    "import pandas as pd\n",
    "from shapely.geometry import Point, MultiPoint\n",
    "from shapely.ops import nearest_points\n",
    "import matplotlib.pyplot as plt\n",
    "from sklearn.model_selection import train_test_split\n",
    "from tqdm import tqdm\n",
    "import time\n",
    "from shapely.geometry import Polygon\n",
    "import matplotlib.pyplot as plt\n",
    "from shapely.ops import cascaded_union\n",
    "import matplotlib.pyplot as plt\n",
    "from shapely.ops import cascaded_union\n",
    "from sklearn.metrics import log_loss\n",
    "import seaborn\n",
    "from sklearn import linear_model\n",
    "def r2(a, b):\n",
    "    return np.corrcoef(a, b)*np.corrcoef(a, b)"
   ]
  },
  {
   "cell_type": "code",
   "execution_count": 3,
   "metadata": {},
   "outputs": [],
   "source": [
    "df=pd.read_csv('DATA.csv', encoding='cp932')\n",
    "df=df.dropna(axis=0)\n",
    "\n",
    "y=df['EColi.']\n",
    "X=df.loc[:, ['up_down', 'curvature', 'inclination', 'tilt_direction', 'altitude', 'disto_river', 'disto_stations', \n",
    "             'disto_mainroad', 'disto_syorizyo', 'supply_hours', 'no_water_days', 'total_population ', 'population_served',\n",
    "             'popu-served', 'number_taps', 'pipelength', 'pipelength_per_pipe', 'served/pipes', '(popu-served)/pipes', \n",
    "             'oldest_pipe_age', 'ST', 'RSF', 'FL', 'PF', 'RF', 'ratio', 'source_ecoli']]"
   ]
  },
  {
   "cell_type": "code",
   "execution_count": null,
   "metadata": {},
   "outputs": [],
   "source": []
  },
  {
   "cell_type": "code",
   "execution_count": 4,
   "metadata": {},
   "outputs": [
    {
     "name": "stdout",
     "output_type": "stream",
     "text": [
      "Labels counts in y: [ 98 120]\n",
      "Lables counts in y_train: [68 84]\n",
      "Lables counts in y_test: [30 36]\n"
     ]
    }
   ],
   "source": [
    "# 分割\n",
    "from sklearn.model_selection import train_test_split\n",
    "X_train, X_test, y_train, y_test=train_test_split(X, y, test_size=0.3,\n",
    "                                                  random_state=1, stratify=y)\n",
    "print('Labels counts in y:', np.bincount(y))\n",
    "print('Lables counts in y_train:', np.bincount(y_train))\n",
    "print('Lables counts in y_test:', np.bincount(y_test))\n",
    "\n",
    "X_train_std=(X_train-X_train.mean(axis=0))/X_train.std(axis=0)\n",
    "X_test_std=(X_test-X_train.mean(axis=0))/X_train.std(axis=0)\n",
    "\n",
    "def threshold(fare):\n",
    "    if fare<=0:\n",
    "        return 0\n",
    "    else:\n",
    "        return 1\n",
    "    \n",
    "X_train_std['ST']=X_train_std['ST'].apply(threshold)\n",
    "X_train_std['RSF']=X_train_std['RSF'].apply(threshold)\n",
    "X_train_std['FL']=X_train_std['FL'].apply(threshold)\n",
    "X_train_std['PF']=X_train_std['PF'].apply(threshold)\n",
    "X_train_std['RF']=X_train_std['RF'].apply(threshold)\n",
    "X_test_std['ST']=X_test_std['ST'].apply(threshold)\n",
    "X_test_std['RSF']=X_test_std['RSF'].apply(threshold)\n",
    "X_test_std['FL']=X_test_std['FL'].apply(threshold)\n",
    "X_test_std['PF']=X_test_std['PF'].apply(threshold)\n",
    "X_test_std['RF']=X_test_std['RF'].apply(threshold)\n",
    "\n",
    "\n",
    "# 分割する\n",
    "X_cross=(X-X.mean(axis=0))/X.std(axis=0)\n",
    "X_cross['ST']=X_cross['ST'].apply(threshold)\n",
    "X_cross['RSF']=X_cross['RSF'].apply(threshold)\n",
    "X_cross['FL']=X_cross['FL'].apply(threshold)\n",
    "X_cross['PF']=X_cross['PF'].apply(threshold)\n",
    "X_cross['RF']=X_cross['RF'].apply(threshold)"
   ]
  },
  {
   "cell_type": "markdown",
   "metadata": {},
   "source": [
    "# LDA"
   ]
  },
  {
   "cell_type": "code",
   "execution_count": 37,
   "metadata": {},
   "outputs": [
    {
     "name": "stdout",
     "output_type": "stream",
     "text": [
      "0.7039473684210527\n",
      "0.6212121212121212\n"
     ]
    },
    {
     "data": {
      "text/plain": [
       "Text(0, 0.5, 'true label')"
      ]
     },
     "execution_count": 37,
     "metadata": {},
     "output_type": "execute_result"
    },
    {
     "data": {
      "image/png": "[encoded data removed]",
      "text/plain": [
       "<Figure size 180x180 with 1 Axes>"
      ]
     },
     "metadata": {
      "needs_background": "light"
     },
     "output_type": "display_data"
    }
   ],
   "source": [
    "clf = LinearDiscriminantAnalysis()\n",
    "clf.fit(X_train_std, y_train)\n",
    "print(clf.score(X_train_std, y_train))\n",
    "print(clf.score(X_test_std, y_test))\n",
    "\n",
    "from sklearn.metrics import confusion_matrix\n",
    "y_pred=clf.predict(X_test_std)\n",
    "confmat=confusion_matrix(y_true=y_test, y_pred=y_pred)\n",
    "\n",
    "import matplotlib.pyplot as plt\n",
    "fig, ax=plt.subplots(figsize=(2.5, 2.5))\n",
    "ax.matshow(confmat, alpha=0.3)\n",
    "for i in range(confmat.shape[0]):\n",
    "    for j in range(confmat.shape[1]):\n",
    "        ax.text(x=j, y=i, s=confmat[i, j], va='center', ha='center')\n",
    "        \n",
    "plt.xlabel('predicted label')\n",
    "plt.ylabel('true label')"
   ]
  },
  {
   "cell_type": "markdown",
   "metadata": {},
   "source": [
    "# SVC"
   ]
  },
  {
   "cell_type": "code",
   "execution_count": 38,
   "metadata": {},
   "outputs": [
    {
     "name": "stdout",
     "output_type": "stream",
     "text": [
      "0.7171052631578947\n",
      "0.696969696969697\n"
     ]
    },
    {
     "data": {
      "text/plain": [
       "Text(0, 0.5, 'true label')"
      ]
     },
     "execution_count": 38,
     "metadata": {},
     "output_type": "execute_result"
    },
    {
     "data": {
      "image/png": "[encoded data removed]",
      "text/plain": [
       "<Figure size 180x180 with 1 Axes>"
      ]
     },
     "metadata": {
      "needs_background": "light"
     },
     "output_type": "display_data"
    }
   ],
   "source": [
    "from sklearn.svm import SVC\n",
    "svm=SVC(kernel='linear', C=100, random_state=1, probability=True)\n",
    "svm.fit(X_train_std, y_train)\n",
    "print(svm.score(X_train_std, y_train))\n",
    "print(svm.score(X_test_std, y_test))\n",
    "\n",
    "from sklearn.metrics import confusion_matrix\n",
    "y_pred=svm.predict(X_test_std)\n",
    "confmat=confusion_matrix(y_true=y_test, y_pred=y_pred)\n",
    "\n",
    "import matplotlib.pyplot as plt\n",
    "fig, ax=plt.subplots(figsize=(2.5, 2.5))\n",
    "ax.matshow(confmat, alpha=0.3)\n",
    "for i in range(confmat.shape[0]):\n",
    "    for j in range(confmat.shape[1]):\n",
    "        ax.text(x=j, y=i, s=confmat[i, j], va='center', ha='center')\n",
    "        \n",
    "plt.xlabel('predicted label')\n",
    "plt.ylabel('true label')"
   ]
  },
  {
   "cell_type": "markdown",
   "metadata": {},
   "source": [
    "# ロジスティック回帰"
   ]
  },
  {
   "cell_type": "code",
   "execution_count": 15,
   "metadata": {},
   "outputs": [
    {
     "name": "stdout",
     "output_type": "stream",
     "text": [
      "0.7039473684210527\n",
      "0.696969696969697\n"
     ]
    },
    {
     "name": "stderr",
     "output_type": "stream",
     "text": [
      "C:\\Users\\kurokiso\\anaconda3\\lib\\site-packages\\sklearn\\linear_model\\_logistic.py:764: ConvergenceWarning: lbfgs failed to converge (status=1):\n",
      "STOP: TOTAL NO. of ITERATIONS REACHED LIMIT.\n",
      "\n",
      "Increase the number of iterations (max_iter) or scale the data as shown in:\n",
      "    https://scikit-learn.org/stable/modules/preprocessing.html\n",
      "Please also refer to the documentation for alternative solver options:\n",
      "    https://scikit-learn.org/stable/modules/linear_model.html#logistic-regression\n",
      "  extra_warning_msg=_LOGISTIC_SOLVER_CONVERGENCE_MSG)\n"
     ]
    },
    {
     "data": {
      "text/plain": [
       "Text(0, 0.5, 'true label')"
      ]
     },
     "execution_count": 15,
     "metadata": {},
     "output_type": "execute_result"
    },
    {
     "data": {
      "image/png": "[encoded data removed]",
      "text/plain": [
       "<Figure size 180x180 with 1 Axes>"
      ]
     },
     "metadata": {
      "needs_background": "light"
     },
     "output_type": "display_data"
    }
   ],
   "source": [
    "lr=LogisticRegression(C=100, random_state=1)\n",
    "lr.fit(X_train_std, y_train)\n",
    "print(lr.score(X_train_std, y_train))\n",
    "print(lr.score(X_test_std, y_test))\n",
    "\n",
    "from sklearn.metrics import confusion_matrix\n",
    "y_pred=lr.predict(X_test_std)\n",
    "confmat=confusion_matrix(y_true=y_test, y_pred=y_pred)\n",
    "\n",
    "import matplotlib.pyplot as plt\n",
    "fig, ax=plt.subplots(figsize=(2.5, 2.5))\n",
    "ax.matshow(confmat, alpha=0.3)\n",
    "for i in range(confmat.shape[0]):\n",
    "    for j in range(confmat.shape[1]):\n",
    "        ax.text(x=j, y=i, s=confmat[i, j], va='center', ha='center')\n",
    "        \n",
    "plt.xlabel('predicted label')\n",
    "plt.ylabel('true label')"
   ]
  },
  {
   "cell_type": "markdown",
   "metadata": {},
   "source": [
    "# random forest"
   ]
  },
  {
   "cell_type": "code",
   "execution_count": 16,
   "metadata": {},
   "outputs": [
    {
     "name": "stdout",
     "output_type": "stream",
     "text": [
      "0.7368421052631579\n",
      "0.7121212121212122\n"
     ]
    },
    {
     "data": {
      "text/plain": [
       "Text(0, 0.5, 'true label')"
      ]
     },
     "execution_count": 16,
     "metadata": {},
     "output_type": "execute_result"
    },
    {
     "data": {
      "image/png": "[encoded data removed]",
      "text/plain": [
       "<Figure size 180x180 with 1 Axes>"
      ]
     },
     "metadata": {
      "needs_background": "light"
     },
     "output_type": "display_data"
    }
   ],
   "source": [
    "from sklearn.ensemble import RandomForestClassifier\n",
    "forest=RandomForestClassifier(max_depth=3, criterion='entropy', n_estimators=29, random_state=1)\n",
    "forest.fit(X_train_std, y_train)\n",
    "print(forest.score(X_train_std, y_train))\n",
    "print(forest.score(X_test_std, y_test))\n",
    "\n",
    "from sklearn.metrics import confusion_matrix\n",
    "y_pred=forest.predict(X_test_std)\n",
    "confmat=confusion_matrix(y_true=y_test, y_pred=y_pred)\n",
    "\n",
    "import matplotlib.pyplot as plt\n",
    "fig, ax=plt.subplots(figsize=(2.5, 2.5))\n",
    "ax.matshow(confmat, alpha=0.3)\n",
    "for i in range(confmat.shape[0]):\n",
    "    for j in range(confmat.shape[1]):\n",
    "        ax.text(x=j, y=i, s=confmat[i, j], va='center', ha='center')\n",
    "        \n",
    "plt.xlabel('predicted label')\n",
    "plt.ylabel('true label')"
   ]
  },
  {
   "cell_type": "code",
   "execution_count": 54,
   "metadata": {
    "scrolled": true
   },
   "outputs": [],
   "source": [
    "# 可視化"
   ]
  },
  {
   "cell_type": "code",
   "execution_count": 61,
   "metadata": {},
   "outputs": [],
   "source": [
    "X=df.loc[:, ['X', 'Y', 'up_down', 'curvature', 'inclination', 'tilt_direction', 'altitude', 'disto_river', 'disto_stations', \n",
    "             'disto_mainroad', 'disto_syorizyo', 'supply_hours', 'no_water_days', 'total_population ', 'population_served',\n",
    "             'popu-served', 'number_taps', 'pipelength', 'pipelength_per_pipe', 'served/pipes', '(popu-served)/pipes', \n",
    "             'oldest_pipe_age', 'ST', 'RSF', 'FL', 'PF', 'RF', 'ratio', 'source_ecoli']]\n",
    "\n",
    "from sklearn.model_selection import train_test_split\n",
    "X_train, X_test, y_train, y_test=train_test_split(X, y, test_size=0.3,\n",
    "                                                  random_state=1, stratify=y)"
   ]
  },
  {
   "cell_type": "code",
   "execution_count": 67,
   "metadata": {},
   "outputs": [],
   "source": [
    "df=pd.DataFrame({'y_test':y_test.values, 'y_pred':y_pred})\n",
    "map=pd.concat([X_test.reset_index(), df], axis=1)\n",
    "map=map.drop(map.index[5])\n",
    "map.X=map.X.apply(lambda x: float(x))"
   ]
  },
  {
   "cell_type": "code",
   "execution_count": 87,
   "metadata": {},
   "outputs": [],
   "source": [
    "geometry = [Point(xy) for xy in zip(map.X, map.Y)]\n",
    "map= gpd.GeoDataFrame(map, geometry=geometry)"
   ]
  },
  {
   "cell_type": "code",
   "execution_count": 123,
   "metadata": {},
   "outputs": [],
   "source": [
    "gpd.GeoDataFrame.to_file(map, \"test_pred.gpkg\", driver=\"GPKG\", encoding='utf-8')"
   ]
  },
  {
   "cell_type": "code",
   "execution_count": null,
   "metadata": {},
   "outputs": [],
   "source": []
  },
  {
   "cell_type": "code",
   "execution_count": 130,
   "metadata": {},
   "outputs": [],
   "source": [
    "df=df.drop(df.index[[1, 2]])\n",
    "df.X=df.X.apply(lambda x: float(x))"
   ]
  },
  {
   "cell_type": "code",
   "execution_count": 131,
   "metadata": {},
   "outputs": [],
   "source": [
    "geometry = [Point(xy) for xy in zip(df.X, df.Y)]\n",
    "df= gpd.GeoDataFrame(df, geometry=geometry)"
   ]
  },
  {
   "cell_type": "code",
   "execution_count": 132,
   "metadata": {},
   "outputs": [],
   "source": [
    "gpd.GeoDataFrame.to_file(df, \"all.gpkg\", driver=\"GPKG\", encoding='utf-8')"
   ]
  },
  {
   "cell_type": "markdown",
   "metadata": {},
   "source": [
    "# Boosted forest"
   ]
  },
  {
   "cell_type": "code",
   "execution_count": 17,
   "metadata": {
    "scrolled": true
   },
   "outputs": [
    {
     "name": "stdout",
     "output_type": "stream",
     "text": [
      "0.6973684210526315\n",
      "0.6666666666666666\n"
     ]
    },
    {
     "data": {
      "text/plain": [
       "Text(0, 0.5, 'true label')"
      ]
     },
     "execution_count": 17,
     "metadata": {},
     "output_type": "execute_result"
    },
    {
     "data": {
      "image/png": "[encoded data removed]",
      "text/plain": [
       "<Figure size 180x180 with 1 Axes>"
      ]
     },
     "metadata": {
      "needs_background": "light"
     },
     "output_type": "display_data"
    }
   ],
   "source": [
    "from sklearn.ensemble import AdaBoostClassifier\n",
    "from sklearn.tree import DecisionTreeClassifier\n",
    "tree=DecisionTreeClassifier(max_depth=2, random_state=1)\n",
    "ada=AdaBoostClassifier(base_estimator=tree, n_estimators=2, learning_rate=1.5, random_state=1)\n",
    "ada.fit(X_train_std, y_train)\n",
    "print(ada.score(X_train_std, y_train))\n",
    "print(ada.score(X_test_std, y_test))\n",
    "\n",
    "from sklearn.metrics import confusion_matrix\n",
    "y_pred=ada.predict(X_test_std)\n",
    "confmat=confusion_matrix(y_true=y_test, y_pred=y_pred)\n",
    "\n",
    "import matplotlib.pyplot as plt\n",
    "fig, ax=plt.subplots(figsize=(2.5, 2.5))\n",
    "ax.matshow(confmat, alpha=0.3)\n",
    "for i in range(confmat.shape[0]):\n",
    "    for j in range(confmat.shape[1]):\n",
    "        ax.text(x=j, y=i, s=confmat[i, j], va='center', ha='center')\n",
    "        \n",
    "plt.xlabel('predicted label')\n",
    "plt.ylabel('true label')"
   ]
  },
  {
   "cell_type": "markdown",
   "metadata": {},
   "source": [
    "# ROC AUC"
   ]
  },
  {
   "cell_type": "code",
   "execution_count": 18,
   "metadata": {},
   "outputs": [],
   "source": [
    "from sklearn.metrics import roc_curve, auc\n",
    "from scipy import interp\n",
    "import matplotlib.pyplot as plt\n",
    "mean_fpr=np.linspace(0, 1, 1000)\n",
    "lda_mean_tpr=0.0\n",
    "svm_mean_tpr=0.0\n",
    "lr_mean_tpr=0.0\n",
    "forest_mean_tpr=0.0\n",
    "ada_mean_tpr=0.0"
   ]
  },
  {
   "cell_type": "code",
   "execution_count": 19,
   "metadata": {},
   "outputs": [],
   "source": [
    "lda_probas=clf.predict_proba(X_test_std)\n",
    "svm_probas=svm.predict_proba(X_test_std)\n",
    "lr_probas=lr.predict_proba(X_test_std)\n",
    "forest_probas=forest.predict_proba(X_test_std)\n",
    "ada_probas=ada.predict_proba(X_test_std)"
   ]
  },
  {
   "cell_type": "code",
   "execution_count": 20,
   "metadata": {},
   "outputs": [],
   "source": [
    "lda_fpr, lda_tpr, lda_thresholds=roc_curve(y_test, lda_probas[:, 1], pos_label=1)\n",
    "svm_fpr, svm_tpr, svm_thresholds=roc_curve(y_test, svm_probas[:, 1], pos_label=1)\n",
    "lr_fpr, lr_tpr, lr_thresholds=roc_curve(y_test, lr_probas[:, 1], pos_label=1)\n",
    "forest_fpr, forest_tpr, forest_thresholds=roc_curve(y_test, forest_probas[:, 1], pos_label=1)\n",
    "ada_fpr, ada_tpr, ada_thresholds=roc_curve(y_test, ada_probas[:, 1], pos_label=1)"
   ]
  },
  {
   "cell_type": "code",
   "execution_count": 21,
   "metadata": {},
   "outputs": [
    {
     "name": "stderr",
     "output_type": "stream",
     "text": [
      "C:\\Users\\kurokiso\\anaconda3\\lib\\site-packages\\ipykernel_launcher.py:1: DeprecationWarning: scipy.interp is deprecated and will be removed in SciPy 2.0.0, use numpy.interp instead\n",
      "  \"\"\"Entry point for launching an IPython kernel.\n",
      "C:\\Users\\kurokiso\\anaconda3\\lib\\site-packages\\ipykernel_launcher.py:2: DeprecationWarning: scipy.interp is deprecated and will be removed in SciPy 2.0.0, use numpy.interp instead\n",
      "  \n",
      "C:\\Users\\kurokiso\\anaconda3\\lib\\site-packages\\ipykernel_launcher.py:3: DeprecationWarning: scipy.interp is deprecated and will be removed in SciPy 2.0.0, use numpy.interp instead\n",
      "  This is separate from the ipykernel package so we can avoid doing imports until\n",
      "C:\\Users\\kurokiso\\anaconda3\\lib\\site-packages\\ipykernel_launcher.py:4: DeprecationWarning: scipy.interp is deprecated and will be removed in SciPy 2.0.0, use numpy.interp instead\n",
      "  after removing the cwd from sys.path.\n",
      "C:\\Users\\kurokiso\\anaconda3\\lib\\site-packages\\ipykernel_launcher.py:5: DeprecationWarning: scipy.interp is deprecated and will be removed in SciPy 2.0.0, use numpy.interp instead\n",
      "  \"\"\"\n"
     ]
    }
   ],
   "source": [
    "lda_mean_tpr+=interp(mean_fpr, lda_fpr, lda_tpr)\n",
    "svm_mean_tpr+=interp(mean_fpr, svm_fpr, svm_tpr)\n",
    "lr_mean_tpr+=interp(mean_fpr, lr_fpr, lr_tpr)\n",
    "forest_mean_tpr+=interp(mean_fpr, forest_fpr, forest_tpr)\n",
    "ada_mean_tpr+=interp(mean_fpr, ada_fpr, ada_tpr)"
   ]
  },
  {
   "cell_type": "code",
   "execution_count": 22,
   "metadata": {},
   "outputs": [],
   "source": [
    "lda_mean_tpr[0]=0.0\n",
    "svm_mean_tpr[0]=0.0\n",
    "lr_mean_tpr[0]=0.0\n",
    "forest_mean_tpr[0]=0.0\n",
    "ada_mean_tpr[0]=0.0"
   ]
  },
  {
   "cell_type": "code",
   "execution_count": 23,
   "metadata": {},
   "outputs": [],
   "source": [
    "lda_roc_auc=auc(lda_fpr, lda_tpr)\n",
    "svm_roc_auc=auc(svm_fpr, svm_tpr)\n",
    "lr_roc_auc=auc(lr_fpr, lr_tpr)\n",
    "forest_roc_auc=auc(forest_fpr, forest_tpr)\n",
    "ada_roc_auc=auc(ada_fpr, ada_tpr)"
   ]
  },
  {
   "cell_type": "code",
   "execution_count": 24,
   "metadata": {},
   "outputs": [
    {
     "name": "stdout",
     "output_type": "stream",
     "text": [
      "0.6814814814814815\n",
      "0.7277777777777779\n",
      "0.7212962962962962\n",
      "0.7583333333333333\n",
      "0.6657407407407406\n"
     ]
    }
   ],
   "source": [
    "print(lda_roc_auc)\n",
    "print(svm_roc_auc)\n",
    "print(lr_roc_auc)\n",
    "print(forest_roc_auc)\n",
    "print(ada_roc_auc)"
   ]
  },
  {
   "cell_type": "code",
   "execution_count": 25,
   "metadata": {},
   "outputs": [
    {
     "data": {
      "text/plain": [
       "<Figure size 504x360 with 0 Axes>"
      ]
     },
     "metadata": {},
     "output_type": "display_data"
    }
   ],
   "source": [
    "fig=plt.figure(figsize=(7, 5))"
   ]
  },
  {
   "cell_type": "code",
   "execution_count": 27,
   "metadata": {},
   "outputs": [
    {
     "data": {
      "text/plain": [
       "Text(0, 0.5, 'True Positive Rate')"
      ]
     },
     "execution_count": 27,
     "metadata": {},
     "output_type": "execute_result"
    },
    {
     "data": {
      "image/png": "[encoded data removed]",
      "text/plain": [
       "<Figure size 432x288 with 1 Axes>"
      ]
     },
     "metadata": {
      "needs_background": "light"
     },
     "output_type": "display_data"
    }
   ],
   "source": [
    "plt.plot(lda_fpr, lda_tpr, label='LDA (area=%0.2f)' %(lda_roc_auc))\n",
    "plt.plot(lr_fpr, lr_tpr, label='LR (area=%0.2f)' %(lr_roc_auc))\n",
    "plt.plot(svm_fpr, svm_tpr, label='SVM (area=%0.2f)' %(svm_roc_auc))\n",
    "plt.plot(forest_fpr, forest_tpr, label='RF (area=%0.2f)' %(forest_roc_auc))\n",
    "plt.plot(ada_fpr, ada_tpr, label='ARF (area=%0.2f)' %(ada_roc_auc))\n",
    "plt.plot([0, 1], linestyle='--', label='randam guessing')\n",
    "plt.plot([0, 0, 1], [0, 1, 1], color='black', linestyle=':', label='perfect performance')\n",
    "plt.legend()\n",
    "plt.xlabel('False Positive Rate')\n",
    "plt.ylabel('True Positive Rate')"
   ]
  },
  {
   "cell_type": "code",
   "execution_count": 92,
   "metadata": {},
   "outputs": [
    {
     "data": {
      "text/plain": [
       "Text(0, 0.5, 'True Positive Rate')"
      ]
     },
     "execution_count": 92,
     "metadata": {},
     "output_type": "execute_result"
    },
    {
     "data": {
      "image/png": "[encoded data removed]",
      "text/plain": [
       "<Figure size 432x288 with 1 Axes>"
      ]
     },
     "metadata": {
      "needs_background": "light"
     },
     "output_type": "display_data"
    }
   ],
   "source": [
    "plt.plot(lr_fpr, lr_tpr, label='LR (area=%0.2f)' %(lr_roc_auc))\n",
    "plt.plot(forest_fpr, forest_tpr, label='Forest (area=%0.2f)' %(forest_roc_auc))\n",
    "plt.plot(ada_fpr, ada_tpr, label='ada (area=%0.2f)' %(ada_roc_auc))\n",
    "plt.plot([0, 1], linestyle='--', label='randam guessing')\n",
    "plt.plot([0, 0, 1], [0, 1, 1], color='black', linestyle=':', label='perfect performance')\n",
    "plt.legend()\n",
    "plt.xlabel('False Positive Rate')\n",
    "plt.ylabel('True Positive Rate')"
   ]
  },
  {
   "cell_type": "code",
   "execution_count": null,
   "metadata": {},
   "outputs": [],
   "source": []
  }
 ],
 "metadata": {
  "kernelspec": {
   "display_name": "Python 3",
   "language": "python",
   "name": "python3"
  },
  "language_info": {
   "codemirror_mode": {
    "name": "ipython",
    "version": 3
   },
   "file_extension": ".py",
   "mimetype": "text/x-python",
   "name": "python",
   "nbconvert_exporter": "python",
   "pygments_lexer": "ipython3",
   "version": "3.7.7"
  }
 },
 "nbformat": 4,
 "nbformat_minor": 4
}
