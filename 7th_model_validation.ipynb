{
 "cells": [
  {
   "cell_type": "code",
   "execution_count": 1,
   "metadata": {},
   "outputs": [],
   "source": [
    "import pandas as pd\n",
    "import numpy as np\n",
    "import pickle\n",
    "import xgboost as xgb\n",
    "import datetime\n",
    "from sklearn.utils import shuffle\n",
    "from sklearn.model_selection import train_test_split\n",
    "from sklearn.linear_model import LogisticRegression\n",
    "from sklearn.metrics import confusion_matrix, accuracy_score, precision_score, classification_report\n",
    "pd.set_option('display.max_columns', None)"
   ]
  },
  {
   "cell_type": "code",
   "execution_count": 2,
   "metadata": {},
   "outputs": [],
   "source": [
    "df=pd.read_excel('◎位置情報と対応(水道水) 基準満たしているか否か.xlsx')\n",
    "df=df.dropna(axis=0)"
   ]
  },
  {
   "cell_type": "code",
   "execution_count": 3,
   "metadata": {},
   "outputs": [],
   "source": [
    "y=df['EColi.']\n",
    "X=df.loc[:, ['陰影起伏', '曲率', '傾斜角', '傾斜方向','高度', '近くの川への距離', '鉄道ポイントへの距離', '主要道路への距離', \n",
    "             'near_distance_syorizyou', 'supply_hours', 'no water days', 'total population ', 'population served', 'popu-served', \n",
    "             'number taps', 'pipes(km)', 'pipes/tabs \\n個/km', 'served/pipes', '(popu-served)/pipes\\n  /km', \n",
    "             'Age of oldeset\\npipe ', 'ST', 'RSF', 'FL', 'PF', 'RF']]"
   ]
  },
  {
   "cell_type": "code",
   "execution_count": 4,
   "metadata": {},
   "outputs": [
    {
     "name": "stdout",
     "output_type": "stream",
     "text": [
      "Labels counts in y: [ 98 120]\n",
      "Lables counts in y_train: [68 84]\n",
      "Lables counts in y_test: [30 36]\n"
     ]
    }
   ],
   "source": [
    "from sklearn.model_selection import train_test_split\n",
    "X_train, X_test, y_train, y_test=train_test_split(X, y, test_size=0.3,\n",
    "                                                  random_state=1, stratify=y)\n",
    "print('Labels counts in y:', np.bincount(y))\n",
    "print('Lables counts in y_train:', np.bincount(y_train))\n",
    "print('Lables counts in y_test:', np.bincount(y_test))"
   ]
  },
  {
   "cell_type": "code",
   "execution_count": 5,
   "metadata": {},
   "outputs": [],
   "source": [
    "X_train_std=(X_train-X_train.mean(axis=0))/X_train.std(axis=0)\n",
    "X_test_std=(X_test-X_train.mean(axis=0))/X_train.std(axis=0)"
   ]
  },
  {
   "cell_type": "code",
   "execution_count": 6,
   "metadata": {},
   "outputs": [],
   "source": [
    "def threshold(fare):\n",
    "    if fare<=0:\n",
    "        return 0\n",
    "    else:\n",
    "        return 1"
   ]
  },
  {
   "cell_type": "code",
   "execution_count": 7,
   "metadata": {},
   "outputs": [],
   "source": [
    "X_train_std['ST']=X_train_std['ST'].apply(threshold)\n",
    "X_train_std['RSF']=X_train_std['RSF'].apply(threshold)\n",
    "X_train_std['FL']=X_train_std['FL'].apply(threshold)\n",
    "X_train_std['PF']=X_train_std['PF'].apply(threshold)\n",
    "X_train_std['RF']=X_train_std['RF'].apply(threshold)\n",
    "X_test_std['ST']=X_test_std['ST'].apply(threshold)\n",
    "X_test_std['RSF']=X_test_std['RSF'].apply(threshold)\n",
    "X_test_std['FL']=X_test_std['FL'].apply(threshold)\n",
    "X_test_std['PF']=X_test_std['PF'].apply(threshold)\n",
    "X_test_std['RF']=X_test_std['RF'].apply(threshold)"
   ]
  },
  {
   "cell_type": "markdown",
   "metadata": {},
   "source": [
    "# SVC"
   ]
  },
  {
   "cell_type": "markdown",
   "metadata": {},
   "source": [
    "# ロジスティック回帰"
   ]
  },
  {
   "cell_type": "markdown",
   "metadata": {},
   "source": [
    "# random forest"
   ]
  },
  {
   "cell_type": "code",
   "execution_count": 14,
   "metadata": {},
   "outputs": [
    {
     "name": "stdout",
     "output_type": "stream",
     "text": [
      "params: RandomForestClassifier(criterion='entropy', max_depth=20, n_estimators=17,\n",
      "                       random_state=1), score: 0.772727, val: 0.592157\n",
      "params: RandomForestClassifier(criterion='entropy', max_depth=20, n_estimators=21,\n",
      "                       random_state=1), score: 0.772727, val: 0.592157\n",
      "params: RandomForestClassifier(criterion='entropy', max_depth=20, n_estimators=25,\n",
      "                       random_state=1), score: 0.772727, val: 0.592157\n",
      "params: RandomForestClassifier(criterion='entropy', max_depth=20, n_estimators=29,\n",
      "                       random_state=1), score: 0.772727, val: 0.598431\n",
      "params: RandomForestClassifier(criterion='entropy', max_depth=20, n_estimators=36,\n",
      "                       random_state=1), score: 0.772727, val: 0.598693\n",
      "params: RandomForestClassifier(criterion='entropy', max_depth=20, n_estimators=40,\n",
      "                       random_state=1), score: 0.772727, val: 0.598954\n",
      "params: RandomForestClassifier(criterion='entropy', max_depth=20, n_estimators=42,\n",
      "                       random_state=1), score: 0.772727, val: 0.585621\n",
      "params: RandomForestClassifier(criterion='entropy', max_depth=20, n_estimators=50,\n",
      "                       random_state=1), score: 0.772727, val: 0.566144\n"
     ]
    }
   ],
   "source": [
    "from sklearn.ensemble import RandomForestClassifier\n",
    "from sklearn.model_selection import GridSearchCV\n",
    "from sklearn.model_selection import cross_val_score\n",
    "\n",
    "max_score =0.77\n",
    "SearchMethod = 0\n",
    "RFC_grid ={\"n_estimators\": [i for i in range(1, 51)],\n",
    "           \"criterion\": [\"gini\", \"entropy\"],\n",
    "           \"max_depth\":[i for i in range(1, 21)]\n",
    "          }\n",
    "           \n",
    "                                      \n",
    "dic={}\n",
    "#ランダムフォレストの実行\n",
    "for i in range(len(RFC_grid['n_estimators'])):\n",
    "           for l in range(len(RFC_grid[\"criterion\"])):\n",
    "               for k in range(len(RFC_grid[\"max_depth\"])):\n",
    "                    forest=RandomForestClassifier(max_depth=RFC_grid[\"max_depth\"][k], criterion=RFC_grid[\"criterion\"][l], n_estimators=RFC_grid['n_estimators'][i], random_state=1)\n",
    "                    forest.fit(X_train_std, y_train)\n",
    "                    score1 = forest.score(X_test_std, y_test)\n",
    "                    dic[forest]=score1\n",
    "\n",
    "               if score1>max_score:\n",
    "                    val=cross_val_score(estimator=forest,\n",
    "                                        X=X_train, y=y_train,\n",
    "                                        cv=3)\n",
    "                    val1=np.mean(val)\n",
    "                    print('params: %s, score: %3f, val: %3f' %(forest, score1, val1))\n",
    "\n"
   ]
  },
  {
   "cell_type": "markdown",
   "metadata": {},
   "source": [
    "# Boosted forest"
   ]
  },
  {
   "cell_type": "code",
   "execution_count": null,
   "metadata": {},
   "outputs": [],
   "source": []
  },
  {
   "cell_type": "code",
   "execution_count": null,
   "metadata": {},
   "outputs": [],
   "source": []
  },
  {
   "cell_type": "code",
   "execution_count": null,
   "metadata": {},
   "outputs": [],
   "source": []
  }
 ],
 "metadata": {
  "kernelspec": {
   "display_name": "Python 3",
   "language": "python",
   "name": "python3"
  },
  "language_info": {
   "codemirror_mode": {
    "name": "ipython",
    "version": 3
   },
   "file_extension": ".py",
   "mimetype": "text/x-python",
   "name": "python",
   "nbconvert_exporter": "python",
   "pygments_lexer": "ipython3",
   "version": "3.7.7"
  }
 },
 "nbformat": 4,
 "nbformat_minor": 4
}
