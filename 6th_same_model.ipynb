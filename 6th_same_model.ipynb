{
 "cells": [
  {
   "cell_type": "code",
   "execution_count": 226,
   "metadata": {},
   "outputs": [],
   "source": [
    "import pandas as pd\n",
    "import numpy as np\n",
    "import pickle\n",
    "import xgboost as xgb\n",
    "import datetime\n",
    "from sklearn.utils import shuffle\n",
    "from sklearn.model_selection import train_test_split\n",
    "from sklearn.linear_model import LogisticRegression\n",
    "from sklearn.metrics import confusion_matrix, accuracy_score, precision_score, classification_report\n",
    "pd.set_option('display.max_columns', None)"
   ]
  },
  {
   "cell_type": "code",
   "execution_count": 227,
   "metadata": {},
   "outputs": [],
   "source": [
    "df=pd.read_excel('◎位置情報と対応(水道水) 基準満たしているか否か.xlsx')\n",
    "df=df.dropna(axis=0)"
   ]
  },
  {
   "cell_type": "code",
   "execution_count": 228,
   "metadata": {},
   "outputs": [],
   "source": [
    "y=df['EColi.']\n",
    "X=df.loc[:, ['陰影起伏', '曲率', '傾斜角', '傾斜方向','高度', '近くの川への距離', '鉄道ポイントへの距離', '主要道路への距離', \n",
    "             'near_distance_syorizyou', 'supply_hours', 'no water days', 'total population ', 'population served', 'popu-served', \n",
    "             'number taps', 'pipes(km)', 'pipes/tabs \\n個/km', 'served/pipes', '(popu-served)/pipes\\n  /km', \n",
    "             'Age of oldeset\\npipe ', 'ST', 'RSF', 'FL', 'PF', 'RF']]"
   ]
  },
  {
   "cell_type": "code",
   "execution_count": 229,
   "metadata": {},
   "outputs": [
    {
     "name": "stdout",
     "output_type": "stream",
     "text": [
      "Labels counts in y: [ 98 120]\n",
      "Lables counts in y_train: [68 84]\n",
      "Lables counts in y_test: [30 36]\n"
     ]
    }
   ],
   "source": [
    "from sklearn.model_selection import train_test_split\n",
    "X_train, X_test, y_train, y_test=train_test_split(X, y, test_size=0.3,\n",
    "                                                  random_state=1, stratify=y)\n",
    "print('Labels counts in y:', np.bincount(y))\n",
    "print('Lables counts in y_train:', np.bincount(y_train))\n",
    "print('Lables counts in y_test:', np.bincount(y_test))"
   ]
  },
  {
   "cell_type": "code",
   "execution_count": 230,
   "metadata": {},
   "outputs": [],
   "source": [
    "X_train_std=(X_train-X_train.mean(axis=0))/X_train.std(axis=0)\n",
    "X_test_std=(X_test-X_train.mean(axis=0))/X_train.std(axis=0)"
   ]
  },
  {
   "cell_type": "code",
   "execution_count": 231,
   "metadata": {},
   "outputs": [],
   "source": [
    "def threshold(fare):\n",
    "    if fare<=0:\n",
    "        return 0\n",
    "    else:\n",
    "        return 1"
   ]
  },
  {
   "cell_type": "code",
   "execution_count": 232,
   "metadata": {},
   "outputs": [],
   "source": [
    "X_train_std['ST']=X_train_std['ST'].apply(threshold)\n",
    "X_train_std['RSF']=X_train_std['RSF'].apply(threshold)\n",
    "X_train_std['FL']=X_train_std['FL'].apply(threshold)\n",
    "X_train_std['PF']=X_train_std['PF'].apply(threshold)\n",
    "X_train_std['RF']=X_train_std['RF'].apply(threshold)\n",
    "X_test_std['ST']=X_test_std['ST'].apply(threshold)\n",
    "X_test_std['RSF']=X_test_std['RSF'].apply(threshold)\n",
    "X_test_std['FL']=X_test_std['FL'].apply(threshold)\n",
    "X_test_std['PF']=X_test_std['PF'].apply(threshold)\n",
    "X_test_std['RF']=X_test_std['RF'].apply(threshold)"
   ]
  },
  {
   "cell_type": "code",
   "execution_count": 233,
   "metadata": {},
   "outputs": [
    {
     "data": {
      "text/html": [
       "<div>\n",
       "<style scoped>\n",
       "    .dataframe tbody tr th:only-of-type {\n",
       "        vertical-align: middle;\n",
       "    }\n",
       "\n",
       "    .dataframe tbody tr th {\n",
       "        vertical-align: top;\n",
       "    }\n",
       "\n",
       "    .dataframe thead th {\n",
       "        text-align: right;\n",
       "    }\n",
       "</style>\n",
       "<table border=\"1\" class=\"dataframe\">\n",
       "  <thead>\n",
       "    <tr style=\"text-align: right;\">\n",
       "      <th></th>\n",
       "      <th>陰影起伏</th>\n",
       "      <th>曲率</th>\n",
       "      <th>傾斜角</th>\n",
       "      <th>傾斜方向</th>\n",
       "      <th>高度</th>\n",
       "      <th>近くの川への距離</th>\n",
       "      <th>鉄道ポイントへの距離</th>\n",
       "      <th>主要道路への距離</th>\n",
       "      <th>near_distance_syorizyou</th>\n",
       "      <th>supply_hours</th>\n",
       "      <th>no water days</th>\n",
       "      <th>total population</th>\n",
       "      <th>population served</th>\n",
       "      <th>popu-served</th>\n",
       "      <th>number taps</th>\n",
       "      <th>pipes(km)</th>\n",
       "      <th>pipes/tabs \\n個/km</th>\n",
       "      <th>served/pipes</th>\n",
       "      <th>(popu-served)/pipes\\n  /km</th>\n",
       "      <th>Age of oldeset\\npipe</th>\n",
       "      <th>ST</th>\n",
       "      <th>RSF</th>\n",
       "      <th>FL</th>\n",
       "      <th>PF</th>\n",
       "      <th>RF</th>\n",
       "    </tr>\n",
       "  </thead>\n",
       "  <tbody>\n",
       "    <tr>\n",
       "      <th>218</th>\n",
       "      <td>-0.686850</td>\n",
       "      <td>-0.382187</td>\n",
       "      <td>0.048990</td>\n",
       "      <td>-0.410915</td>\n",
       "      <td>-1.159545</td>\n",
       "      <td>-0.327503</td>\n",
       "      <td>-1.265976</td>\n",
       "      <td>-0.135508</td>\n",
       "      <td>-0.070461</td>\n",
       "      <td>0.939600</td>\n",
       "      <td>-1.478259</td>\n",
       "      <td>-1.032852</td>\n",
       "      <td>-1.008378</td>\n",
       "      <td>-1.129822</td>\n",
       "      <td>-1.022905</td>\n",
       "      <td>-1.036154</td>\n",
       "      <td>-0.031214</td>\n",
       "      <td>-1.256239</td>\n",
       "      <td>-0.508817</td>\n",
       "      <td>-0.784953</td>\n",
       "      <td>1</td>\n",
       "      <td>1</td>\n",
       "      <td>0</td>\n",
       "      <td>0</td>\n",
       "      <td>0</td>\n",
       "    </tr>\n",
       "    <tr>\n",
       "      <th>100</th>\n",
       "      <td>1.831442</td>\n",
       "      <td>-1.612959</td>\n",
       "      <td>0.077027</td>\n",
       "      <td>1.317255</td>\n",
       "      <td>0.879267</td>\n",
       "      <td>0.004160</td>\n",
       "      <td>0.949064</td>\n",
       "      <td>-0.448003</td>\n",
       "      <td>-0.178807</td>\n",
       "      <td>-0.732687</td>\n",
       "      <td>0.484507</td>\n",
       "      <td>1.008671</td>\n",
       "      <td>1.009306</td>\n",
       "      <td>0.995391</td>\n",
       "      <td>1.008055</td>\n",
       "      <td>1.006044</td>\n",
       "      <td>-0.190579</td>\n",
       "      <td>0.969445</td>\n",
       "      <td>-0.352555</td>\n",
       "      <td>1.003462</td>\n",
       "      <td>1</td>\n",
       "      <td>1</td>\n",
       "      <td>1</td>\n",
       "      <td>1</td>\n",
       "      <td>1</td>\n",
       "    </tr>\n",
       "    <tr>\n",
       "      <th>147</th>\n",
       "      <td>-0.686850</td>\n",
       "      <td>0.110122</td>\n",
       "      <td>0.083950</td>\n",
       "      <td>0.323822</td>\n",
       "      <td>0.939576</td>\n",
       "      <td>0.527216</td>\n",
       "      <td>1.045501</td>\n",
       "      <td>-0.147035</td>\n",
       "      <td>-0.094643</td>\n",
       "      <td>-0.732687</td>\n",
       "      <td>0.484507</td>\n",
       "      <td>1.008671</td>\n",
       "      <td>1.009306</td>\n",
       "      <td>0.995391</td>\n",
       "      <td>1.008055</td>\n",
       "      <td>1.006044</td>\n",
       "      <td>-0.190579</td>\n",
       "      <td>0.969445</td>\n",
       "      <td>-0.352555</td>\n",
       "      <td>1.003462</td>\n",
       "      <td>1</td>\n",
       "      <td>1</td>\n",
       "      <td>1</td>\n",
       "      <td>1</td>\n",
       "      <td>1</td>\n",
       "    </tr>\n",
       "    <tr>\n",
       "      <th>190</th>\n",
       "      <td>-0.327094</td>\n",
       "      <td>0.725508</td>\n",
       "      <td>0.080769</td>\n",
       "      <td>0.610908</td>\n",
       "      <td>-1.188024</td>\n",
       "      <td>-0.724693</td>\n",
       "      <td>-0.980053</td>\n",
       "      <td>-0.163948</td>\n",
       "      <td>-0.394109</td>\n",
       "      <td>0.380087</td>\n",
       "      <td>-0.877575</td>\n",
       "      <td>-1.024947</td>\n",
       "      <td>-1.014043</td>\n",
       "      <td>-1.062279</td>\n",
       "      <td>-1.033523</td>\n",
       "      <td>-1.070890</td>\n",
       "      <td>-0.023260</td>\n",
       "      <td>-1.165195</td>\n",
       "      <td>0.956916</td>\n",
       "      <td>-1.091538</td>\n",
       "      <td>0</td>\n",
       "      <td>0</td>\n",
       "      <td>0</td>\n",
       "      <td>0</td>\n",
       "      <td>0</td>\n",
       "    </tr>\n",
       "    <tr>\n",
       "      <th>192</th>\n",
       "      <td>-0.226362</td>\n",
       "      <td>-0.012955</td>\n",
       "      <td>0.082693</td>\n",
       "      <td>-1.455383</td>\n",
       "      <td>-1.146142</td>\n",
       "      <td>-0.883740</td>\n",
       "      <td>-1.183121</td>\n",
       "      <td>1.309977</td>\n",
       "      <td>-0.016418</td>\n",
       "      <td>-0.515133</td>\n",
       "      <td>0.040044</td>\n",
       "      <td>-0.925869</td>\n",
       "      <td>-0.999170</td>\n",
       "      <td>-0.593647</td>\n",
       "      <td>-1.008196</td>\n",
       "      <td>-1.059415</td>\n",
       "      <td>-0.179687</td>\n",
       "      <td>-0.272058</td>\n",
       "      <td>5.788956</td>\n",
       "      <td>-1.295928</td>\n",
       "      <td>0</td>\n",
       "      <td>0</td>\n",
       "      <td>0</td>\n",
       "      <td>0</td>\n",
       "      <td>0</td>\n",
       "    </tr>\n",
       "    <tr>\n",
       "      <th>...</th>\n",
       "      <td>...</td>\n",
       "      <td>...</td>\n",
       "      <td>...</td>\n",
       "      <td>...</td>\n",
       "      <td>...</td>\n",
       "      <td>...</td>\n",
       "      <td>...</td>\n",
       "      <td>...</td>\n",
       "      <td>...</td>\n",
       "      <td>...</td>\n",
       "      <td>...</td>\n",
       "      <td>...</td>\n",
       "      <td>...</td>\n",
       "      <td>...</td>\n",
       "      <td>...</td>\n",
       "      <td>...</td>\n",
       "      <td>...</td>\n",
       "      <td>...</td>\n",
       "      <td>...</td>\n",
       "      <td>...</td>\n",
       "      <td>...</td>\n",
       "      <td>...</td>\n",
       "      <td>...</td>\n",
       "      <td>...</td>\n",
       "      <td>...</td>\n",
       "    </tr>\n",
       "    <tr>\n",
       "      <th>44</th>\n",
       "      <td>-0.686850</td>\n",
       "      <td>-0.751419</td>\n",
       "      <td>0.072918</td>\n",
       "      <td>0.057667</td>\n",
       "      <td>-0.975264</td>\n",
       "      <td>-0.532585</td>\n",
       "      <td>-0.258298</td>\n",
       "      <td>0.944393</td>\n",
       "      <td>0.031416</td>\n",
       "      <td>1.611015</td>\n",
       "      <td>-1.406907</td>\n",
       "      <td>-0.858066</td>\n",
       "      <td>-0.925323</td>\n",
       "      <td>-0.553148</td>\n",
       "      <td>-0.861831</td>\n",
       "      <td>-0.523634</td>\n",
       "      <td>-0.042145</td>\n",
       "      <td>-1.324718</td>\n",
       "      <td>-0.331289</td>\n",
       "      <td>-0.963794</td>\n",
       "      <td>0</td>\n",
       "      <td>0</td>\n",
       "      <td>0</td>\n",
       "      <td>0</td>\n",
       "      <td>0</td>\n",
       "    </tr>\n",
       "    <tr>\n",
       "      <th>156</th>\n",
       "      <td>-0.686850</td>\n",
       "      <td>1.463971</td>\n",
       "      <td>0.085376</td>\n",
       "      <td>-0.390698</td>\n",
       "      <td>0.931200</td>\n",
       "      <td>-0.800241</td>\n",
       "      <td>1.049782</td>\n",
       "      <td>-0.202599</td>\n",
       "      <td>0.026095</td>\n",
       "      <td>-0.732687</td>\n",
       "      <td>0.484507</td>\n",
       "      <td>1.008671</td>\n",
       "      <td>1.009306</td>\n",
       "      <td>0.995391</td>\n",
       "      <td>1.008055</td>\n",
       "      <td>1.006044</td>\n",
       "      <td>-0.190579</td>\n",
       "      <td>0.969445</td>\n",
       "      <td>-0.352555</td>\n",
       "      <td>1.003462</td>\n",
       "      <td>1</td>\n",
       "      <td>1</td>\n",
       "      <td>1</td>\n",
       "      <td>1</td>\n",
       "      <td>1</td>\n",
       "    </tr>\n",
       "    <tr>\n",
       "      <th>16</th>\n",
       "      <td>-0.686850</td>\n",
       "      <td>0.233199</td>\n",
       "      <td>0.080769</td>\n",
       "      <td>-1.263421</td>\n",
       "      <td>-1.132740</td>\n",
       "      <td>-0.364624</td>\n",
       "      <td>-1.329180</td>\n",
       "      <td>-0.221402</td>\n",
       "      <td>-0.399950</td>\n",
       "      <td>0.044380</td>\n",
       "      <td>-0.334968</td>\n",
       "      <td>-1.026417</td>\n",
       "      <td>-1.014292</td>\n",
       "      <td>-1.069108</td>\n",
       "      <td>-1.031457</td>\n",
       "      <td>-1.066652</td>\n",
       "      <td>-0.043024</td>\n",
       "      <td>-1.269909</td>\n",
       "      <td>0.629604</td>\n",
       "      <td>-0.963794</td>\n",
       "      <td>0</td>\n",
       "      <td>0</td>\n",
       "      <td>0</td>\n",
       "      <td>0</td>\n",
       "      <td>0</td>\n",
       "    </tr>\n",
       "    <tr>\n",
       "      <th>144</th>\n",
       "      <td>-0.686850</td>\n",
       "      <td>-0.136033</td>\n",
       "      <td>0.084819</td>\n",
       "      <td>0.003578</td>\n",
       "      <td>1.019990</td>\n",
       "      <td>0.350658</td>\n",
       "      <td>1.092903</td>\n",
       "      <td>-0.304388</td>\n",
       "      <td>0.119831</td>\n",
       "      <td>-0.732687</td>\n",
       "      <td>0.484507</td>\n",
       "      <td>1.008671</td>\n",
       "      <td>1.009306</td>\n",
       "      <td>0.995391</td>\n",
       "      <td>1.008055</td>\n",
       "      <td>1.006044</td>\n",
       "      <td>-0.190579</td>\n",
       "      <td>0.969445</td>\n",
       "      <td>-0.352555</td>\n",
       "      <td>1.003462</td>\n",
       "      <td>1</td>\n",
       "      <td>1</td>\n",
       "      <td>1</td>\n",
       "      <td>1</td>\n",
       "      <td>1</td>\n",
       "    </tr>\n",
       "    <tr>\n",
       "      <th>118</th>\n",
       "      <td>-0.686850</td>\n",
       "      <td>-0.628341</td>\n",
       "      <td>0.085483</td>\n",
       "      <td>-0.938961</td>\n",
       "      <td>0.978108</td>\n",
       "      <td>-0.840677</td>\n",
       "      <td>1.039339</td>\n",
       "      <td>0.234144</td>\n",
       "      <td>0.129775</td>\n",
       "      <td>-0.732687</td>\n",
       "      <td>0.484507</td>\n",
       "      <td>1.008671</td>\n",
       "      <td>1.009306</td>\n",
       "      <td>0.995391</td>\n",
       "      <td>1.008055</td>\n",
       "      <td>1.006044</td>\n",
       "      <td>-0.190579</td>\n",
       "      <td>0.969445</td>\n",
       "      <td>-0.352555</td>\n",
       "      <td>1.003462</td>\n",
       "      <td>1</td>\n",
       "      <td>1</td>\n",
       "      <td>1</td>\n",
       "      <td>1</td>\n",
       "      <td>1</td>\n",
       "    </tr>\n",
       "  </tbody>\n",
       "</table>\n",
       "<p>152 rows × 25 columns</p>\n",
       "</div>"
      ],
      "text/plain": [
       "         陰影起伏        曲率       傾斜角      傾斜方向        高度  近くの川への距離  鉄道ポイントへの距離  \\\n",
       "218 -0.686850 -0.382187  0.048990 -0.410915 -1.159545 -0.327503   -1.265976   \n",
       "100  1.831442 -1.612959  0.077027  1.317255  0.879267  0.004160    0.949064   \n",
       "147 -0.686850  0.110122  0.083950  0.323822  0.939576  0.527216    1.045501   \n",
       "190 -0.327094  0.725508  0.080769  0.610908 -1.188024 -0.724693   -0.980053   \n",
       "192 -0.226362 -0.012955  0.082693 -1.455383 -1.146142 -0.883740   -1.183121   \n",
       "..        ...       ...       ...       ...       ...       ...         ...   \n",
       "44  -0.686850 -0.751419  0.072918  0.057667 -0.975264 -0.532585   -0.258298   \n",
       "156 -0.686850  1.463971  0.085376 -0.390698  0.931200 -0.800241    1.049782   \n",
       "16  -0.686850  0.233199  0.080769 -1.263421 -1.132740 -0.364624   -1.329180   \n",
       "144 -0.686850 -0.136033  0.084819  0.003578  1.019990  0.350658    1.092903   \n",
       "118 -0.686850 -0.628341  0.085483 -0.938961  0.978108 -0.840677    1.039339   \n",
       "\n",
       "     主要道路への距離  near_distance_syorizyou  supply_hours  no water days  \\\n",
       "218 -0.135508                -0.070461      0.939600      -1.478259   \n",
       "100 -0.448003                -0.178807     -0.732687       0.484507   \n",
       "147 -0.147035                -0.094643     -0.732687       0.484507   \n",
       "190 -0.163948                -0.394109      0.380087      -0.877575   \n",
       "192  1.309977                -0.016418     -0.515133       0.040044   \n",
       "..        ...                      ...           ...            ...   \n",
       "44   0.944393                 0.031416      1.611015      -1.406907   \n",
       "156 -0.202599                 0.026095     -0.732687       0.484507   \n",
       "16  -0.221402                -0.399950      0.044380      -0.334968   \n",
       "144 -0.304388                 0.119831     -0.732687       0.484507   \n",
       "118  0.234144                 0.129775     -0.732687       0.484507   \n",
       "\n",
       "     total population   population served  popu-served  number taps  \\\n",
       "218          -1.032852          -1.008378    -1.129822    -1.022905   \n",
       "100           1.008671           1.009306     0.995391     1.008055   \n",
       "147           1.008671           1.009306     0.995391     1.008055   \n",
       "190          -1.024947          -1.014043    -1.062279    -1.033523   \n",
       "192          -0.925869          -0.999170    -0.593647    -1.008196   \n",
       "..                 ...                ...          ...          ...   \n",
       "44           -0.858066          -0.925323    -0.553148    -0.861831   \n",
       "156           1.008671           1.009306     0.995391     1.008055   \n",
       "16           -1.026417          -1.014292    -1.069108    -1.031457   \n",
       "144           1.008671           1.009306     0.995391     1.008055   \n",
       "118           1.008671           1.009306     0.995391     1.008055   \n",
       "\n",
       "     pipes(km)  pipes/tabs \\n個/km  served/pipes  (popu-served)/pipes\\n  /km  \\\n",
       "218  -1.036154          -0.031214     -1.256239                   -0.508817   \n",
       "100   1.006044          -0.190579      0.969445                   -0.352555   \n",
       "147   1.006044          -0.190579      0.969445                   -0.352555   \n",
       "190  -1.070890          -0.023260     -1.165195                    0.956916   \n",
       "192  -1.059415          -0.179687     -0.272058                    5.788956   \n",
       "..         ...                ...           ...                         ...   \n",
       "44   -0.523634          -0.042145     -1.324718                   -0.331289   \n",
       "156   1.006044          -0.190579      0.969445                   -0.352555   \n",
       "16   -1.066652          -0.043024     -1.269909                    0.629604   \n",
       "144   1.006044          -0.190579      0.969445                   -0.352555   \n",
       "118   1.006044          -0.190579      0.969445                   -0.352555   \n",
       "\n",
       "     Age of oldeset\\npipe   ST  RSF  FL  PF  RF  \n",
       "218              -0.784953   1    1   0   0   0  \n",
       "100               1.003462   1    1   1   1   1  \n",
       "147               1.003462   1    1   1   1   1  \n",
       "190              -1.091538   0    0   0   0   0  \n",
       "192              -1.295928   0    0   0   0   0  \n",
       "..                     ...  ..  ...  ..  ..  ..  \n",
       "44               -0.963794   0    0   0   0   0  \n",
       "156               1.003462   1    1   1   1   1  \n",
       "16               -0.963794   0    0   0   0   0  \n",
       "144               1.003462   1    1   1   1   1  \n",
       "118               1.003462   1    1   1   1   1  \n",
       "\n",
       "[152 rows x 25 columns]"
      ]
     },
     "execution_count": 233,
     "metadata": {},
     "output_type": "execute_result"
    }
   ],
   "source": [
    "X_train_std"
   ]
  },
  {
   "cell_type": "markdown",
   "metadata": {},
   "source": [
    "# SVC"
   ]
  },
  {
   "cell_type": "code",
   "execution_count": 234,
   "metadata": {},
   "outputs": [],
   "source": [
    "from sklearn.svm import SVC\n",
    "svm=SVC(kernel='linear', C=1000, random_state=1)"
   ]
  },
  {
   "cell_type": "code",
   "execution_count": 235,
   "metadata": {},
   "outputs": [
    {
     "data": {
      "text/plain": [
       "SVC(C=1000, kernel='linear', random_state=1)"
      ]
     },
     "execution_count": 235,
     "metadata": {},
     "output_type": "execute_result"
    }
   ],
   "source": [
    "svm.fit(X_train_std, y_train)"
   ]
  },
  {
   "cell_type": "code",
   "execution_count": 236,
   "metadata": {},
   "outputs": [
    {
     "data": {
      "text/plain": [
       "0.7039473684210527"
      ]
     },
     "execution_count": 236,
     "metadata": {},
     "output_type": "execute_result"
    }
   ],
   "source": [
    "svm.score(X_train_std, y_train)"
   ]
  },
  {
   "cell_type": "code",
   "execution_count": 237,
   "metadata": {},
   "outputs": [
    {
     "data": {
      "text/plain": [
       "0.6363636363636364"
      ]
     },
     "execution_count": 237,
     "metadata": {},
     "output_type": "execute_result"
    }
   ],
   "source": [
    "svm.score(X_test_std, y_test)"
   ]
  },
  {
   "cell_type": "code",
   "execution_count": 238,
   "metadata": {},
   "outputs": [],
   "source": [
    "from sklearn.model_selection import GridSearchCV\n",
    "from sklearn.svm import SVC\n",
    "from sklearn.pipeline import make_pipeline\n",
    "pipe_svc=make_pipeline( SVC(random_state=1))\n",
    "\n",
    "param_range=[0.0001, 0.001, 0.01, 0.1, 1.0, 10.0, 100.0, 1000.0]\n",
    "\n",
    "param_grid=[{'svc__C':param_range, 'svc__kernel':['linear']},\n",
    "            {'svc__C':param_range, 'svc__gamma':param_range,\n",
    "             'svc__kernel':['rbf']}]"
   ]
  },
  {
   "cell_type": "code",
   "execution_count": 239,
   "metadata": {},
   "outputs": [],
   "source": [
    "gs=GridSearchCV(estimator=pipe_svc,\n",
    "                param_grid=param_grid,\n",
    "                scoring='accuracy',\n",
    "                cv=10,\n",
    "                n_jobs=-1)"
   ]
  },
  {
   "cell_type": "code",
   "execution_count": 240,
   "metadata": {},
   "outputs": [],
   "source": [
    "gs=gs.fit(X_train_std, y_train)"
   ]
  },
  {
   "cell_type": "code",
   "execution_count": 241,
   "metadata": {},
   "outputs": [
    {
     "data": {
      "text/plain": [
       "0.6195833333333333"
      ]
     },
     "execution_count": 241,
     "metadata": {},
     "output_type": "execute_result"
    }
   ],
   "source": [
    "gs.best_score_"
   ]
  },
  {
   "cell_type": "code",
   "execution_count": 242,
   "metadata": {},
   "outputs": [
    {
     "data": {
      "text/plain": [
       "{'svc__C': 100.0, 'svc__kernel': 'linear'}"
      ]
     },
     "execution_count": 242,
     "metadata": {},
     "output_type": "execute_result"
    }
   ],
   "source": [
    "gs.best_params_"
   ]
  },
  {
   "cell_type": "markdown",
   "metadata": {},
   "source": [
    "# ロジスティック回帰"
   ]
  },
  {
   "cell_type": "code",
   "execution_count": 243,
   "metadata": {},
   "outputs": [
    {
     "name": "stderr",
     "output_type": "stream",
     "text": [
      "C:\\Users\\kurokiso\\anaconda3\\lib\\site-packages\\sklearn\\linear_model\\_logistic.py:764: ConvergenceWarning: lbfgs failed to converge (status=1):\n",
      "STOP: TOTAL NO. of ITERATIONS REACHED LIMIT.\n",
      "\n",
      "Increase the number of iterations (max_iter) or scale the data as shown in:\n",
      "    https://scikit-learn.org/stable/modules/preprocessing.html\n",
      "Please also refer to the documentation for alternative solver options:\n",
      "    https://scikit-learn.org/stable/modules/linear_model.html#logistic-regression\n",
      "  extra_warning_msg=_LOGISTIC_SOLVER_CONVERGENCE_MSG)\n",
      "C:\\Users\\kurokiso\\anaconda3\\lib\\site-packages\\sklearn\\linear_model\\_logistic.py:764: ConvergenceWarning: lbfgs failed to converge (status=1):\n",
      "STOP: TOTAL NO. of ITERATIONS REACHED LIMIT.\n",
      "\n",
      "Increase the number of iterations (max_iter) or scale the data as shown in:\n",
      "    https://scikit-learn.org/stable/modules/preprocessing.html\n",
      "Please also refer to the documentation for alternative solver options:\n",
      "    https://scikit-learn.org/stable/modules/linear_model.html#logistic-regression\n",
      "  extra_warning_msg=_LOGISTIC_SOLVER_CONVERGENCE_MSG)\n",
      "C:\\Users\\kurokiso\\anaconda3\\lib\\site-packages\\sklearn\\linear_model\\_logistic.py:764: ConvergenceWarning: lbfgs failed to converge (status=1):\n",
      "STOP: TOTAL NO. of ITERATIONS REACHED LIMIT.\n",
      "\n",
      "Increase the number of iterations (max_iter) or scale the data as shown in:\n",
      "    https://scikit-learn.org/stable/modules/preprocessing.html\n",
      "Please also refer to the documentation for alternative solver options:\n",
      "    https://scikit-learn.org/stable/modules/linear_model.html#logistic-regression\n",
      "  extra_warning_msg=_LOGISTIC_SOLVER_CONVERGENCE_MSG)\n",
      "C:\\Users\\kurokiso\\anaconda3\\lib\\site-packages\\sklearn\\linear_model\\_logistic.py:764: ConvergenceWarning: lbfgs failed to converge (status=1):\n",
      "STOP: TOTAL NO. of ITERATIONS REACHED LIMIT.\n",
      "\n",
      "Increase the number of iterations (max_iter) or scale the data as shown in:\n",
      "    https://scikit-learn.org/stable/modules/preprocessing.html\n",
      "Please also refer to the documentation for alternative solver options:\n",
      "    https://scikit-learn.org/stable/modules/linear_model.html#logistic-regression\n",
      "  extra_warning_msg=_LOGISTIC_SOLVER_CONVERGENCE_MSG)\n",
      "C:\\Users\\kurokiso\\anaconda3\\lib\\site-packages\\sklearn\\linear_model\\_logistic.py:764: ConvergenceWarning: lbfgs failed to converge (status=1):\n",
      "STOP: TOTAL NO. of ITERATIONS REACHED LIMIT.\n",
      "\n",
      "Increase the number of iterations (max_iter) or scale the data as shown in:\n",
      "    https://scikit-learn.org/stable/modules/preprocessing.html\n",
      "Please also refer to the documentation for alternative solver options:\n",
      "    https://scikit-learn.org/stable/modules/linear_model.html#logistic-regression\n",
      "  extra_warning_msg=_LOGISTIC_SOLVER_CONVERGENCE_MSG)\n",
      "C:\\Users\\kurokiso\\anaconda3\\lib\\site-packages\\sklearn\\linear_model\\_logistic.py:764: ConvergenceWarning: lbfgs failed to converge (status=1):\n",
      "STOP: TOTAL NO. of ITERATIONS REACHED LIMIT.\n",
      "\n",
      "Increase the number of iterations (max_iter) or scale the data as shown in:\n",
      "    https://scikit-learn.org/stable/modules/preprocessing.html\n",
      "Please also refer to the documentation for alternative solver options:\n",
      "    https://scikit-learn.org/stable/modules/linear_model.html#logistic-regression\n",
      "  extra_warning_msg=_LOGISTIC_SOLVER_CONVERGENCE_MSG)\n",
      "C:\\Users\\kurokiso\\anaconda3\\lib\\site-packages\\sklearn\\linear_model\\_logistic.py:764: ConvergenceWarning: lbfgs failed to converge (status=1):\n",
      "STOP: TOTAL NO. of ITERATIONS REACHED LIMIT.\n",
      "\n",
      "Increase the number of iterations (max_iter) or scale the data as shown in:\n",
      "    https://scikit-learn.org/stable/modules/preprocessing.html\n",
      "Please also refer to the documentation for alternative solver options:\n",
      "    https://scikit-learn.org/stable/modules/linear_model.html#logistic-regression\n",
      "  extra_warning_msg=_LOGISTIC_SOLVER_CONVERGENCE_MSG)\n",
      "C:\\Users\\kurokiso\\anaconda3\\lib\\site-packages\\sklearn\\linear_model\\_logistic.py:764: ConvergenceWarning: lbfgs failed to converge (status=1):\n",
      "STOP: TOTAL NO. of ITERATIONS REACHED LIMIT.\n",
      "\n",
      "Increase the number of iterations (max_iter) or scale the data as shown in:\n",
      "    https://scikit-learn.org/stable/modules/preprocessing.html\n",
      "Please also refer to the documentation for alternative solver options:\n",
      "    https://scikit-learn.org/stable/modules/linear_model.html#logistic-regression\n",
      "  extra_warning_msg=_LOGISTIC_SOLVER_CONVERGENCE_MSG)\n",
      "C:\\Users\\kurokiso\\anaconda3\\lib\\site-packages\\sklearn\\linear_model\\_logistic.py:764: ConvergenceWarning: lbfgs failed to converge (status=1):\n",
      "STOP: TOTAL NO. of ITERATIONS REACHED LIMIT.\n",
      "\n",
      "Increase the number of iterations (max_iter) or scale the data as shown in:\n",
      "    https://scikit-learn.org/stable/modules/preprocessing.html\n",
      "Please also refer to the documentation for alternative solver options:\n",
      "    https://scikit-learn.org/stable/modules/linear_model.html#logistic-regression\n",
      "  extra_warning_msg=_LOGISTIC_SOLVER_CONVERGENCE_MSG)\n",
      "C:\\Users\\kurokiso\\anaconda3\\lib\\site-packages\\sklearn\\linear_model\\_logistic.py:764: ConvergenceWarning: lbfgs failed to converge (status=1):\n",
      "STOP: TOTAL NO. of ITERATIONS REACHED LIMIT.\n",
      "\n",
      "Increase the number of iterations (max_iter) or scale the data as shown in:\n",
      "    https://scikit-learn.org/stable/modules/preprocessing.html\n",
      "Please also refer to the documentation for alternative solver options:\n",
      "    https://scikit-learn.org/stable/modules/linear_model.html#logistic-regression\n",
      "  extra_warning_msg=_LOGISTIC_SOLVER_CONVERGENCE_MSG)\n",
      "C:\\Users\\kurokiso\\anaconda3\\lib\\site-packages\\sklearn\\linear_model\\_logistic.py:764: ConvergenceWarning: lbfgs failed to converge (status=1):\n",
      "STOP: TOTAL NO. of ITERATIONS REACHED LIMIT.\n",
      "\n",
      "Increase the number of iterations (max_iter) or scale the data as shown in:\n",
      "    https://scikit-learn.org/stable/modules/preprocessing.html\n",
      "Please also refer to the documentation for alternative solver options:\n",
      "    https://scikit-learn.org/stable/modules/linear_model.html#logistic-regression\n",
      "  extra_warning_msg=_LOGISTIC_SOLVER_CONVERGENCE_MSG)\n",
      "C:\\Users\\kurokiso\\anaconda3\\lib\\site-packages\\sklearn\\linear_model\\_logistic.py:764: ConvergenceWarning: lbfgs failed to converge (status=1):\n",
      "STOP: TOTAL NO. of ITERATIONS REACHED LIMIT.\n",
      "\n",
      "Increase the number of iterations (max_iter) or scale the data as shown in:\n",
      "    https://scikit-learn.org/stable/modules/preprocessing.html\n",
      "Please also refer to the documentation for alternative solver options:\n",
      "    https://scikit-learn.org/stable/modules/linear_model.html#logistic-regression\n",
      "  extra_warning_msg=_LOGISTIC_SOLVER_CONVERGENCE_MSG)\n",
      "C:\\Users\\kurokiso\\anaconda3\\lib\\site-packages\\sklearn\\linear_model\\_logistic.py:764: ConvergenceWarning: lbfgs failed to converge (status=1):\n",
      "STOP: TOTAL NO. of ITERATIONS REACHED LIMIT.\n",
      "\n",
      "Increase the number of iterations (max_iter) or scale the data as shown in:\n",
      "    https://scikit-learn.org/stable/modules/preprocessing.html\n",
      "Please also refer to the documentation for alternative solver options:\n",
      "    https://scikit-learn.org/stable/modules/linear_model.html#logistic-regression\n",
      "  extra_warning_msg=_LOGISTIC_SOLVER_CONVERGENCE_MSG)\n",
      "C:\\Users\\kurokiso\\anaconda3\\lib\\site-packages\\sklearn\\linear_model\\_logistic.py:764: ConvergenceWarning: lbfgs failed to converge (status=1):\n",
      "STOP: TOTAL NO. of ITERATIONS REACHED LIMIT.\n",
      "\n",
      "Increase the number of iterations (max_iter) or scale the data as shown in:\n",
      "    https://scikit-learn.org/stable/modules/preprocessing.html\n",
      "Please also refer to the documentation for alternative solver options:\n",
      "    https://scikit-learn.org/stable/modules/linear_model.html#logistic-regression\n",
      "  extra_warning_msg=_LOGISTIC_SOLVER_CONVERGENCE_MSG)\n",
      "C:\\Users\\kurokiso\\anaconda3\\lib\\site-packages\\sklearn\\linear_model\\_logistic.py:764: ConvergenceWarning: lbfgs failed to converge (status=1):\n",
      "STOP: TOTAL NO. of ITERATIONS REACHED LIMIT.\n",
      "\n",
      "Increase the number of iterations (max_iter) or scale the data as shown in:\n",
      "    https://scikit-learn.org/stable/modules/preprocessing.html\n",
      "Please also refer to the documentation for alternative solver options:\n",
      "    https://scikit-learn.org/stable/modules/linear_model.html#logistic-regression\n",
      "  extra_warning_msg=_LOGISTIC_SOLVER_CONVERGENCE_MSG)\n",
      "C:\\Users\\kurokiso\\anaconda3\\lib\\site-packages\\sklearn\\linear_model\\_logistic.py:764: ConvergenceWarning: lbfgs failed to converge (status=1):\n",
      "STOP: TOTAL NO. of ITERATIONS REACHED LIMIT.\n",
      "\n",
      "Increase the number of iterations (max_iter) or scale the data as shown in:\n",
      "    https://scikit-learn.org/stable/modules/preprocessing.html\n",
      "Please also refer to the documentation for alternative solver options:\n",
      "    https://scikit-learn.org/stable/modules/linear_model.html#logistic-regression\n",
      "  extra_warning_msg=_LOGISTIC_SOLVER_CONVERGENCE_MSG)\n",
      "C:\\Users\\kurokiso\\anaconda3\\lib\\site-packages\\sklearn\\linear_model\\_logistic.py:764: ConvergenceWarning: lbfgs failed to converge (status=1):\n",
      "STOP: TOTAL NO. of ITERATIONS REACHED LIMIT.\n",
      "\n",
      "Increase the number of iterations (max_iter) or scale the data as shown in:\n",
      "    https://scikit-learn.org/stable/modules/preprocessing.html\n",
      "Please also refer to the documentation for alternative solver options:\n",
      "    https://scikit-learn.org/stable/modules/linear_model.html#logistic-regression\n",
      "  extra_warning_msg=_LOGISTIC_SOLVER_CONVERGENCE_MSG)\n",
      "C:\\Users\\kurokiso\\anaconda3\\lib\\site-packages\\sklearn\\linear_model\\_logistic.py:764: ConvergenceWarning: lbfgs failed to converge (status=1):\n",
      "STOP: TOTAL NO. of ITERATIONS REACHED LIMIT.\n",
      "\n",
      "Increase the number of iterations (max_iter) or scale the data as shown in:\n",
      "    https://scikit-learn.org/stable/modules/preprocessing.html\n",
      "Please also refer to the documentation for alternative solver options:\n",
      "    https://scikit-learn.org/stable/modules/linear_model.html#logistic-regression\n",
      "  extra_warning_msg=_LOGISTIC_SOLVER_CONVERGENCE_MSG)\n",
      "C:\\Users\\kurokiso\\anaconda3\\lib\\site-packages\\sklearn\\linear_model\\_logistic.py:764: ConvergenceWarning: lbfgs failed to converge (status=1):\n",
      "STOP: TOTAL NO. of ITERATIONS REACHED LIMIT.\n",
      "\n",
      "Increase the number of iterations (max_iter) or scale the data as shown in:\n",
      "    https://scikit-learn.org/stable/modules/preprocessing.html\n",
      "Please also refer to the documentation for alternative solver options:\n",
      "    https://scikit-learn.org/stable/modules/linear_model.html#logistic-regression\n",
      "  extra_warning_msg=_LOGISTIC_SOLVER_CONVERGENCE_MSG)\n"
     ]
    },
    {
     "name": "stdout",
     "output_type": "stream",
     "text": [
      "Best parameters : {'C': 10}\n",
      "Best cross-validation score : 0.600\n"
     ]
    },
    {
     "name": "stderr",
     "output_type": "stream",
     "text": [
      "C:\\Users\\kurokiso\\anaconda3\\lib\\site-packages\\sklearn\\linear_model\\_logistic.py:764: ConvergenceWarning: lbfgs failed to converge (status=1):\n",
      "STOP: TOTAL NO. of ITERATIONS REACHED LIMIT.\n",
      "\n",
      "Increase the number of iterations (max_iter) or scale the data as shown in:\n",
      "    https://scikit-learn.org/stable/modules/preprocessing.html\n",
      "Please also refer to the documentation for alternative solver options:\n",
      "    https://scikit-learn.org/stable/modules/linear_model.html#logistic-regression\n",
      "  extra_warning_msg=_LOGISTIC_SOLVER_CONVERGENCE_MSG)\n",
      "C:\\Users\\kurokiso\\anaconda3\\lib\\site-packages\\sklearn\\linear_model\\_logistic.py:764: ConvergenceWarning: lbfgs failed to converge (status=1):\n",
      "STOP: TOTAL NO. of ITERATIONS REACHED LIMIT.\n",
      "\n",
      "Increase the number of iterations (max_iter) or scale the data as shown in:\n",
      "    https://scikit-learn.org/stable/modules/preprocessing.html\n",
      "Please also refer to the documentation for alternative solver options:\n",
      "    https://scikit-learn.org/stable/modules/linear_model.html#logistic-regression\n",
      "  extra_warning_msg=_LOGISTIC_SOLVER_CONVERGENCE_MSG)\n"
     ]
    }
   ],
   "source": [
    "from sklearn.linear_model import LogisticRegression\n",
    "from sklearn.model_selection import GridSearchCV\n",
    "\n",
    "param_grid = {'C' : [0.001, 0.01, 0.1, 1, 10, 100]}\n",
    "\n",
    "grid_search = GridSearchCV(LogisticRegression(), param_grid, cv=10)\n",
    "grid_search.fit(X_train_std, y_train)\n",
    "\n",
    "print(\"Best parameters : {}\".format(grid_search.best_params_))\n",
    "print(\"Best cross-validation score : {:.3f}\".format(grid_search.best_score_))"
   ]
  },
  {
   "cell_type": "code",
   "execution_count": 244,
   "metadata": {},
   "outputs": [],
   "source": [
    "lr=LogisticRegression(C=10, random_state=1)"
   ]
  },
  {
   "cell_type": "code",
   "execution_count": 245,
   "metadata": {},
   "outputs": [
    {
     "name": "stderr",
     "output_type": "stream",
     "text": [
      "C:\\Users\\kurokiso\\anaconda3\\lib\\site-packages\\sklearn\\linear_model\\_logistic.py:764: ConvergenceWarning: lbfgs failed to converge (status=1):\n",
      "STOP: TOTAL NO. of ITERATIONS REACHED LIMIT.\n",
      "\n",
      "Increase the number of iterations (max_iter) or scale the data as shown in:\n",
      "    https://scikit-learn.org/stable/modules/preprocessing.html\n",
      "Please also refer to the documentation for alternative solver options:\n",
      "    https://scikit-learn.org/stable/modules/linear_model.html#logistic-regression\n",
      "  extra_warning_msg=_LOGISTIC_SOLVER_CONVERGENCE_MSG)\n"
     ]
    },
    {
     "data": {
      "text/plain": [
       "LogisticRegression(C=10, random_state=1)"
      ]
     },
     "execution_count": 245,
     "metadata": {},
     "output_type": "execute_result"
    }
   ],
   "source": [
    "lr.fit(X_train_std, y_train)"
   ]
  },
  {
   "cell_type": "code",
   "execution_count": 246,
   "metadata": {},
   "outputs": [
    {
     "data": {
      "text/plain": [
       "0.7171052631578947"
      ]
     },
     "execution_count": 246,
     "metadata": {},
     "output_type": "execute_result"
    }
   ],
   "source": [
    "lr.score(X_train_std, y_train)"
   ]
  },
  {
   "cell_type": "code",
   "execution_count": 247,
   "metadata": {},
   "outputs": [
    {
     "data": {
      "text/plain": [
       "0.6515151515151515"
      ]
     },
     "execution_count": 247,
     "metadata": {},
     "output_type": "execute_result"
    }
   ],
   "source": [
    "lr.score(X_test_std, y_test)"
   ]
  },
  {
   "cell_type": "code",
   "execution_count": 248,
   "metadata": {},
   "outputs": [],
   "source": [
    "from sklearn.ensemble import RandomForestClassifier"
   ]
  },
  {
   "cell_type": "code",
   "execution_count": 249,
   "metadata": {},
   "outputs": [],
   "source": [
    "forest=RandomForestClassifier(criterion='gini', n_estimators=20, random_state=1)"
   ]
  },
  {
   "cell_type": "code",
   "execution_count": 250,
   "metadata": {},
   "outputs": [
    {
     "data": {
      "text/plain": [
       "RandomForestClassifier(n_estimators=20, random_state=1)"
      ]
     },
     "execution_count": 250,
     "metadata": {},
     "output_type": "execute_result"
    }
   ],
   "source": [
    "forest.fit(X_train_std, y_train)"
   ]
  },
  {
   "cell_type": "code",
   "execution_count": 251,
   "metadata": {},
   "outputs": [
    {
     "data": {
      "text/plain": [
       "0.993421052631579"
      ]
     },
     "execution_count": 251,
     "metadata": {},
     "output_type": "execute_result"
    }
   ],
   "source": [
    "forest.score(X_train_std, y_train)"
   ]
  },
  {
   "cell_type": "code",
   "execution_count": 252,
   "metadata": {},
   "outputs": [
    {
     "data": {
      "text/plain": [
       "0.696969696969697"
      ]
     },
     "execution_count": 252,
     "metadata": {},
     "output_type": "execute_result"
    }
   ],
   "source": [
    "forest.score(X_test_std, y_test)"
   ]
  },
  {
   "cell_type": "markdown",
   "metadata": {},
   "source": [
    "# Boosted forest"
   ]
  },
  {
   "cell_type": "code",
   "execution_count": 253,
   "metadata": {},
   "outputs": [],
   "source": [
    "from sklearn.ensemble import AdaBoostClassifier\n",
    "from sklearn.tree import DecisionTreeClassifier"
   ]
  },
  {
   "cell_type": "code",
   "execution_count": 254,
   "metadata": {},
   "outputs": [],
   "source": [
    "tree=DecisionTreeClassifier(criterion='entropy', max_depth=1, random_state=1)\n",
    "ada=AdaBoostClassifier(base_estimator=tree, n_estimators=60, learning_rate=0.1, random_state=1)"
   ]
  },
  {
   "cell_type": "code",
   "execution_count": 255,
   "metadata": {},
   "outputs": [
    {
     "data": {
      "text/plain": [
       "AdaBoostClassifier(base_estimator=DecisionTreeClassifier(criterion='entropy',\n",
       "                                                         max_depth=1,\n",
       "                                                         random_state=1),\n",
       "                   learning_rate=0.1, n_estimators=60, random_state=1)"
      ]
     },
     "execution_count": 255,
     "metadata": {},
     "output_type": "execute_result"
    }
   ],
   "source": [
    "ada.fit(X_train_std, y_train)"
   ]
  },
  {
   "cell_type": "code",
   "execution_count": 256,
   "metadata": {},
   "outputs": [
    {
     "data": {
      "text/plain": [
       "0.8026315789473685"
      ]
     },
     "execution_count": 256,
     "metadata": {},
     "output_type": "execute_result"
    }
   ],
   "source": [
    "ada.score(X_train_std, y_train)"
   ]
  },
  {
   "cell_type": "code",
   "execution_count": 257,
   "metadata": {},
   "outputs": [
    {
     "data": {
      "text/plain": [
       "0.6666666666666666"
      ]
     },
     "execution_count": 257,
     "metadata": {},
     "output_type": "execute_result"
    }
   ],
   "source": [
    "ada.score(X_test_std, y_test)"
   ]
  },
  {
   "cell_type": "markdown",
   "metadata": {},
   "source": [
    "# xgboost"
   ]
  },
  {
   "cell_type": "code",
   "execution_count": 258,
   "metadata": {},
   "outputs": [],
   "source": [
    "import xgboost as xgb"
   ]
  },
  {
   "cell_type": "code",
   "execution_count": 259,
   "metadata": {},
   "outputs": [],
   "source": [
    "dtrain = xgb.DMatrix(X_train_std, label=y_train)\n",
    "param = {'max_depth': 5, 'eta': 1, 'objective': 'multi:softmax', 'num_class': 8} \n",
    "num_round = 100 \n",
    "bst = xgb.train(param, dtrain, num_round)  "
   ]
  },
  {
   "cell_type": "code",
   "execution_count": 260,
   "metadata": {},
   "outputs": [
    {
     "name": "stdout",
     "output_type": "stream",
     "text": [
      "score:0.6515\n"
     ]
    }
   ],
   "source": [
    "dtest = xgb.DMatrix(X_test_std)  \n",
    "pred = bst.predict(dtest) \n",
    "score = accuracy_score(y_test, pred)\n",
    "print('score:{0:.4f}'.format(score))  "
   ]
  },
  {
   "cell_type": "code",
   "execution_count": null,
   "metadata": {},
   "outputs": [],
   "source": []
  },
  {
   "cell_type": "code",
   "execution_count": null,
   "metadata": {},
   "outputs": [],
   "source": []
  },
  {
   "cell_type": "code",
   "execution_count": null,
   "metadata": {},
   "outputs": [],
   "source": []
  }
 ],
 "metadata": {
  "kernelspec": {
   "display_name": "Python 3",
   "language": "python",
   "name": "python3"
  },
  "language_info": {
   "codemirror_mode": {
    "name": "ipython",
    "version": 3
   },
   "file_extension": ".py",
   "mimetype": "text/x-python",
   "name": "python",
   "nbconvert_exporter": "python",
   "pygments_lexer": "ipython3",
   "version": "3.7.7"
  }
 },
 "nbformat": 4,
 "nbformat_minor": 4
}
